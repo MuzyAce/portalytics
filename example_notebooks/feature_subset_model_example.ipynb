{
 "cells": [
  {
   "cell_type": "code",
   "execution_count": 13,
   "metadata": {},
   "outputs": [],
   "source": [
    "%matplotlib inline\n",
    "from matplotlib import pyplot as plt\n",
    "plt.style.use('ggplot')\n",
    "import numpy as np\n",
    "import pandas as pd"
   ]
  },
  {
   "cell_type": "code",
   "execution_count": 14,
   "metadata": {},
   "outputs": [],
   "source": [
    "from copy import deepcopy\n",
    "\n",
    "import pandas as pd\n",
    "from sklearn.base import BaseEstimator, RegressorMixin\n",
    "from sklearn.datasets import make_regression\n",
    "from sklearn.linear_model import LinearRegression, SGDRegressor\n",
    "from sklearn.metrics import mean_squared_error\n",
    "from sklearn.model_selection import train_test_split\n",
    "\n",
    "\n",
    "class FeatureSubsetModel(BaseEstimator, RegressorMixin):\n",
    "\n",
    "    def __init__(self, group_cols=None, sub_models=None):\n",
    "        \"\"\"\n",
    "        Build regression model for subsets of feature rows matching particular combination of feature columns.\n",
    "        \n",
    "        \"\"\"\n",
    "\n",
    "        self.group_cols = deepcopy(group_cols) if group_cols else None\n",
    "        self.sub_models = deepcopy(sub_models) if sub_models else None\n",
    "\n",
    "    def fit(self, X, y):\n",
    "        \"\"\"\n",
    "        Partition the training data, X, into groups for each unique combination of values in \n",
    "        ``self.group_cols`` columns. For each group, train the appropriate model specified in \n",
    "        ``self.sub_models``.\n",
    "        \"\"\"\n",
    "        groups = X.groupby(by=list(self.group_cols))\n",
    "\n",
    "        for gp_key, x_group in groups:\n",
    "            # Find the sub-model for this group key\n",
    "            gp_model = self.sub_models[gp_key]\n",
    "            \n",
    "            # Drop the feature values for the group columns, since these are same for all rows\n",
    "            # and so don't contribute anything into the prediction.\n",
    "            x_in = x_group.drop([n for n in self.group_cols], axis=1)\n",
    "            y_in = y.loc[x_in.index]\n",
    "\n",
    "            # Fit the submodel with subset of rows\n",
    "            gp_model = gp_model.fit(X=x_in.values, y=y_in.values)\n",
    "            self.sub_models[gp_key] = gp_model\n",
    "\n",
    "        return self\n",
    "\n",
    "    def predict(self, X):\n",
    "        \"\"\"\n",
    "        Same as ``self.fit()``, but call the ``predict()`` method for each submodel and return the results.\n",
    "        \"\"\"\n",
    "        groups = X.groupby(by=list(self.group_cols))\n",
    "        results = []\n",
    "\n",
    "        for gp_key, x_group in groups:\n",
    "            gp_model = self.sub_models[gp_key]\n",
    "            x_in = x_group.drop([n for n in self.group_cols], axis=1)\n",
    "\n",
    "            result = gp_model.predict(X=x_in.values)\n",
    "\n",
    "            result = pd.Series(index=x_in.index, data=result)\n",
    "            results.append(result)\n",
    "\n",
    "        return pd.concat(results, axis=0)"
   ]
  },
  {
   "cell_type": "code",
   "execution_count": 15,
   "metadata": {},
   "outputs": [],
   "source": [
    "def make_dataset(random_state, n_informative, **kwargs):\n",
    "    x, y = make_regression(\n",
    "        \n",
    "        n_samples=1000, \n",
    "        n_features=5,\n",
    "        noise=0 if random_state == 1 else 10,\n",
    "        bias=10 if random_state == 1 else 1000,\n",
    "        n_informative=min(n_informative, 5), \n",
    "        random_state=random_state\n",
    "    )\n",
    "    x = pd.DataFrame(x)\n",
    "    x.columns = ['feature_{}'.format(n) for n in x.columns]\n",
    "    x = x.assign(**kwargs)\n",
    "    \n",
    "    return x, pd.Series(y)"
   ]
  },
  {
   "cell_type": "code",
   "execution_count": 17,
   "metadata": {},
   "outputs": [
    {
     "name": "stdout",
     "output_type": "stream",
     "text": [
      "51        34.241301\n",
      "417      -64.680038\n",
      "269       80.844118\n",
      "191       73.619755\n",
      "436       12.566498\n",
      "           ...     \n",
      "1852    1055.511575\n",
      "1356    1041.595320\n",
      "1493     868.514740\n",
      "1306    1022.328589\n",
      "1607    1086.257925\n",
      "Length: 500, dtype: float64\n",
      "51        34.241301\n",
      "1327    1083.752391\n",
      "1488    1039.746891\n",
      "1432    1193.665579\n",
      "417      -64.680038\n",
      "           ...     \n",
      "1493     866.937570\n",
      "886      118.225953\n",
      "1306    1017.702255\n",
      "279       96.873484\n",
      "1607    1072.301312\n",
      "Length: 500, dtype: float64\n"
     ]
    }
   ],
   "source": [
    "subset_cols = ('account_banner', 'product_desc')\n",
    "sub_models = {\n",
    "    ('A', 'X'): LinearRegression(),\n",
    "    ('B', 'Y'): SGDRegressor(),\n",
    "}\n",
    "\n",
    "model = FeatureSubsetModel(group_cols=subset_cols, sub_models=sub_models)\n",
    "\n",
    "# Generate two sets of artificial regression data with different characteristics\n",
    "\n",
    "x1, y1 = make_dataset(1, 5, account_banner='A', product_desc='X')\n",
    "x2, y2 = make_dataset(2, 3, account_banner='B', product_desc='Y')\n",
    "\n",
    "# combine into one dataset\n",
    "total_x = pd.concat([x1, x2], axis=0, ignore_index=True).reset_index(drop=True)\n",
    "total_y = pd.concat([y1, y2], axis=0, ignore_index=True).reset_index(drop=True)\n",
    "\n",
    "# Split into train and test\n",
    "train_index, test_index = train_test_split(total_x.index, random_state=5)\n",
    "train_x, train_y = total_x.loc[train_index, :], total_y.loc[train_index]\n",
    "test_x, test_y = total_x.loc[test_index, :], total_y.loc[test_index]\n",
    "\n",
    "model = model.fit(train_x, train_y)\n",
    "results = model.predict(test_x)"
   ]
  },
  {
   "cell_type": "code",
   "execution_count": 18,
   "metadata": {},
   "outputs": [],
   "source": [
    "comp = pd.concat({'actual':test_y, 'predicted': results}, axis=1)\n",
    "cat_features = test_x.loc[:, ['account_banner', 'product_desc']].apply(lambda x: '-'.join(x.values), axis=1)\n",
    "comp = pd.concat([comp, cat_features], axis=1)\n",
    "comp.columns = ['actual', 'predicted', 'subset']"
   ]
  },
  {
   "cell_type": "code",
   "execution_count": 19,
   "metadata": {
    "scrolled": true
   },
   "outputs": [
    {
     "data": {
      "text/html": [
       "<div>\n",
       "<style scoped>\n",
       "    .dataframe tbody tr th:only-of-type {\n",
       "        vertical-align: middle;\n",
       "    }\n",
       "\n",
       "    .dataframe tbody tr th {\n",
       "        vertical-align: top;\n",
       "    }\n",
       "\n",
       "    .dataframe thead th {\n",
       "        text-align: right;\n",
       "    }\n",
       "</style>\n",
       "<table border=\"1\" class=\"dataframe\">\n",
       "  <thead>\n",
       "    <tr style=\"text-align: right;\">\n",
       "      <th></th>\n",
       "      <th>actual</th>\n",
       "      <th>predicted</th>\n",
       "      <th>subset</th>\n",
       "    </tr>\n",
       "  </thead>\n",
       "  <tbody>\n",
       "    <tr>\n",
       "      <td>4</td>\n",
       "      <td>15.117545</td>\n",
       "      <td>15.117545</td>\n",
       "      <td>A-X</td>\n",
       "    </tr>\n",
       "    <tr>\n",
       "      <td>7</td>\n",
       "      <td>-76.836525</td>\n",
       "      <td>-76.836525</td>\n",
       "      <td>A-X</td>\n",
       "    </tr>\n",
       "    <tr>\n",
       "      <td>12</td>\n",
       "      <td>115.491036</td>\n",
       "      <td>115.491036</td>\n",
       "      <td>A-X</td>\n",
       "    </tr>\n",
       "    <tr>\n",
       "      <td>15</td>\n",
       "      <td>223.554056</td>\n",
       "      <td>223.554056</td>\n",
       "      <td>A-X</td>\n",
       "    </tr>\n",
       "    <tr>\n",
       "      <td>26</td>\n",
       "      <td>-84.161989</td>\n",
       "      <td>-84.161989</td>\n",
       "      <td>A-X</td>\n",
       "    </tr>\n",
       "  </tbody>\n",
       "</table>\n",
       "</div>"
      ],
      "text/plain": [
       "        actual   predicted subset\n",
       "4    15.117545   15.117545    A-X\n",
       "7   -76.836525  -76.836525    A-X\n",
       "12  115.491036  115.491036    A-X\n",
       "15  223.554056  223.554056    A-X\n",
       "26  -84.161989  -84.161989    A-X"
      ]
     },
     "execution_count": 19,
     "metadata": {},
     "output_type": "execute_result"
    }
   ],
   "source": [
    "comp.head()"
   ]
  },
  {
   "cell_type": "code",
   "execution_count": 20,
   "metadata": {},
   "outputs": [],
   "source": [
    "comp = comp.melt(id_vars=['subset',], var_name='type')"
   ]
  },
  {
   "cell_type": "code",
   "execution_count": 21,
   "metadata": {},
   "outputs": [
    {
     "data": {
      "text/html": [
       "<div>\n",
       "<style scoped>\n",
       "    .dataframe tbody tr th:only-of-type {\n",
       "        vertical-align: middle;\n",
       "    }\n",
       "\n",
       "    .dataframe tbody tr th {\n",
       "        vertical-align: top;\n",
       "    }\n",
       "\n",
       "    .dataframe thead th {\n",
       "        text-align: right;\n",
       "    }\n",
       "</style>\n",
       "<table border=\"1\" class=\"dataframe\">\n",
       "  <thead>\n",
       "    <tr style=\"text-align: right;\">\n",
       "      <th></th>\n",
       "      <th>subset</th>\n",
       "      <th>type</th>\n",
       "      <th>value</th>\n",
       "    </tr>\n",
       "  </thead>\n",
       "  <tbody>\n",
       "    <tr>\n",
       "      <td>0</td>\n",
       "      <td>A-X</td>\n",
       "      <td>actual</td>\n",
       "      <td>15.117545</td>\n",
       "    </tr>\n",
       "    <tr>\n",
       "      <td>1</td>\n",
       "      <td>A-X</td>\n",
       "      <td>actual</td>\n",
       "      <td>-76.836525</td>\n",
       "    </tr>\n",
       "    <tr>\n",
       "      <td>2</td>\n",
       "      <td>A-X</td>\n",
       "      <td>actual</td>\n",
       "      <td>115.491036</td>\n",
       "    </tr>\n",
       "    <tr>\n",
       "      <td>3</td>\n",
       "      <td>A-X</td>\n",
       "      <td>actual</td>\n",
       "      <td>223.554056</td>\n",
       "    </tr>\n",
       "    <tr>\n",
       "      <td>4</td>\n",
       "      <td>A-X</td>\n",
       "      <td>actual</td>\n",
       "      <td>-84.161989</td>\n",
       "    </tr>\n",
       "  </tbody>\n",
       "</table>\n",
       "</div>"
      ],
      "text/plain": [
       "  subset    type       value\n",
       "0    A-X  actual   15.117545\n",
       "1    A-X  actual  -76.836525\n",
       "2    A-X  actual  115.491036\n",
       "3    A-X  actual  223.554056\n",
       "4    A-X  actual  -84.161989"
      ]
     },
     "execution_count": 21,
     "metadata": {},
     "output_type": "execute_result"
    }
   ],
   "source": [
    "comp.head()"
   ]
  },
  {
   "cell_type": "code",
   "execution_count": 9,
   "metadata": {},
   "outputs": [
    {
     "data": {
      "image/png": "[encoded data removed]",
      "text/plain": [
       "<Figure size 515.625x216 with 2 Axes>"
      ]
     },
     "metadata": {},
     "output_type": "display_data"
    }
   ],
   "source": [
    "import seaborn as sns\n",
    "\n",
    "# plot the predicted values of the target and the ground truth values for each subset.\n",
    "\n",
    "fg = sns.FacetGrid(data=comp, col='subset', hue='type')\n",
    "fg = fg.map(plt.plot, 'value')\n",
    "fg = fg.add_legend()"
   ]
  },
  {
   "cell_type": "code",
   "execution_count": null,
   "metadata": {},
   "outputs": [],
   "source": []
  }
 ],
 "metadata": {
  "kernelspec": {
   "display_name": "Python 3",
   "language": "python",
   "name": "python3"
  },
  "language_info": {
   "codemirror_mode": {
    "name": "ipython",
    "version": 3
   },
   "file_extension": ".py",
   "mimetype": "text/x-python",
   "name": "python",
   "nbconvert_exporter": "python",
   "pygments_lexer": "ipython3",
   "version": "3.7.4"
  },
  "pycharm": {
   "stem_cell": {
    "cell_type": "raw",
    "source": [],
    "metadata": {
     "collapsed": false
    }
   }
  }
 },
 "nbformat": 4,
 "nbformat_minor": 2
}