{
 "cells": [
  {
   "cell_type": "code",
   "execution_count": 1,
   "metadata": {},
   "outputs": [
    {
     "name": "stderr",
     "output_type": "stream",
     "text": [
      "/home/ctselas/anaconda3/lib/python3.7/site-packages/sklearn/externals/joblib/__init__.py:15: DeprecationWarning: sklearn.externals.joblib is deprecated in 0.21 and will be removed in 0.23. Please import this functionality directly from joblib, which can be installed with: pip install joblib. If this warning is raised when loading pickled models, you may need to re-serialize those models with scikit-learn 0.21+.\n",
      "  warnings.warn(msg, category=DeprecationWarning)\n"
     ]
    }
   ],
   "source": [
    "%matplotlib inline\n",
    "from matplotlib import pyplot as plt\n",
    "plt.style.use('ggplot')\n",
    "import numpy as np\n",
    "import pandas as pd\n",
    "from copy import deepcopy\n",
    "\n",
    "from sklearn.datasets import make_regression\n",
    "from sklearn.linear_model import LinearRegression\n",
    "from sklearn.tree import DecisionTreeRegressor\n",
    "from sklearn.metrics import mean_squared_error\n",
    "from sklearn.model_selection import train_test_split\n",
    "from sklearn.pipeline import Pipeline\n",
    "from sklearn.preprocessing import PolynomialFeatures\n",
    "\n",
    "import sys\n",
    "sys.path.insert(0,'..')\n",
    "\n",
    "from vf_portalytics.feature_subset import FeatureSubsetModel, FeatureSubsetTransform\n",
    "from vf_portalytics.model import PredictionModel"
   ]
  },
  {
   "cell_type": "code",
   "execution_count": 2,
   "metadata": {},
   "outputs": [],
   "source": [
    "# Not necessary when vf-portalytics is imported as a library\n"
   ]
  },
  {
   "cell_type": "code",
   "execution_count": 3,
   "metadata": {},
   "outputs": [],
   "source": [
    "def make_dataset(random_state, n_informative, **kwargs):\n",
    "    x, y = make_regression(\n",
    "        \n",
    "        n_samples=1000, \n",
    "        n_features=5,\n",
    "        noise=0 if random_state == 1 else 10,\n",
    "        bias=10 if random_state == 1 else 1000,\n",
    "        n_informative=min(n_informative, 5), \n",
    "        random_state=random_state\n",
    "    )\n",
    "    x = pd.DataFrame(x)\n",
    "    x.columns = ['feature_{}'.format(n) for n in x.columns]\n",
    "    x = x.assign(**kwargs)\n",
    "    \n",
    "    return x, pd.Series(y)"
   ]
  },
  {
   "cell_type": "markdown",
   "metadata": {},
   "source": [
    "## Generate two sets of artificial regression data with different characteristics"
   ]
  },
  {
   "cell_type": "code",
   "execution_count": 4,
   "metadata": {},
   "outputs": [],
   "source": [
    "x1, y1 = make_dataset(1, 5, account_banner='A', product_desc='X')\n",
    "x2, y2 = make_dataset(2, 3, account_banner='B', product_desc='Y')\n",
    "\n",
    "# combine into one dataset\n",
    "total_x = pd.concat([x1, x2], axis=0, ignore_index=True).reset_index(drop=True)\n",
    "total_y = pd.concat([y1, y2], axis=0, ignore_index=True).reset_index(drop=True)\n",
    "\n",
    "# Split into train and test\n",
    "train_index, test_index = train_test_split(total_x.index, random_state=5)\n",
    "train_x, train_y = total_x.loc[train_index, :], total_y.loc[train_index]\n",
    "test_x, test_y = total_x.loc[test_index, :], total_y.loc[test_index]"
   ]
  },
  {
   "cell_type": "markdown",
   "metadata": {
    "scrolled": false
   },
   "source": [
    "# Create VF Model Wrapper"
   ]
  },
  {
   "cell_type": "code",
   "execution_count": 5,
   "metadata": {},
   "outputs": [],
   "source": [
    "# Note: must use one_hot_encode=False to prevent one-hot encoding of categorical features in input data\n",
    "model_wrapper = PredictionModel(\"my_test_model\", path='/tmp', one_hot_encode=False)"
   ]
  },
  {
   "cell_type": "markdown",
   "metadata": {},
   "source": [
    "# Generate PolyNomial Features for Feature Subsets "
   ]
  },
  {
   "cell_type": "code",
   "execution_count": 6,
   "metadata": {
    "pycharm": {
     "name": "#%%\n"
    }
   },
   "outputs": [],
   "source": [
    "# Create a pipeline and perform cross validation using both meth\n",
    "from sklearn.model_selection import cross_val_score\n",
    "from sklearn.pipeline import make_pipeline\n",
    "from sklearn.preprocessing import PolynomialFeatures\n",
    "\n",
    "\n",
    "subset_cols = ('account_banner', 'product_desc')\n",
    "sub_models = {\n",
    "    ('A', 'X'): LinearRegression(),\n",
    "    ('B', 'Y'): DecisionTreeRegressor(),\n",
    "}\n",
    "\n",
    "\n",
    "pipeline = Pipeline([  \n",
    "  ('transform', FeatureSubsetTransform(group_cols=subset_cols, transformer=PolynomialFeatures(2))),\n",
    "  ('estimate', FeatureSubsetModel(group_cols=subset_cols, sub_models=sub_models))\n",
    "])\n"
   ]
  },
  {
   "cell_type": "markdown",
   "metadata": {},
   "source": [
    "## Train the Model using the Train Split"
   ]
  },
  {
   "cell_type": "code",
   "execution_count": 7,
   "metadata": {},
   "outputs": [
    {
     "data": {
      "text/plain": [
       "Pipeline(memory=None,\n",
       "         steps=[('transform',\n",
       "                 FeatureSubsetTransform(group_cols=('account_banner',\n",
       "                                                    'product_desc'),\n",
       "                                        transformer=PolynomialFeatures(degree=2,\n",
       "                                                                       include_bias=True,\n",
       "                                                                       interaction_only=False,\n",
       "                                                                       order='C'))),\n",
       "                ('estimate',\n",
       "                 FeatureSubsetModel(group_cols=('account_banner',\n",
       "                                                'product_desc'),\n",
       "                                    sub_models={('A', 'X'): LinearRegression(copy_X=True,\n",
       "                                                                             fit_intercept=True,\n",
       "                                                                             n_jobs=None,\n",
       "                                                                             normalize=False),\n",
       "                                                ('B', 'Y'): DecisionTreeRegressor(criterion='mse',\n",
       "                                                                                  max_depth=None,\n",
       "                                                                                  max_features=None,\n",
       "                                                                                  max_leaf_nodes=None,\n",
       "                                                                                  min_impurity_decrease=0.0,\n",
       "                                                                                  min_impurity_split=None,\n",
       "                                                                                  min_samples_leaf=1,\n",
       "                                                                                  min_samples_split=2,\n",
       "                                                                                  min_weight_fraction_leaf=0.0,\n",
       "                                                                                  presort=False,\n",
       "                                                                                  random_state=None,\n",
       "                                                                                  splitter='best')}))],\n",
       "         verbose=False)"
      ]
     },
     "execution_count": 7,
     "metadata": {},
     "output_type": "execute_result"
    }
   ],
   "source": [
    "model_wrapper.model = pipeline\n",
    "model_wrapper.features = {\n",
    "    # Grouping features\n",
    "    'account_banner': [],\n",
    "    'product_desc': [],\n",
    "    # other feaures\n",
    "    'feature_0': [],\n",
    "    'feature_1': [],\n",
    "    'feature_2': [],\n",
    "    'feature_3': [],\n",
    "    'feature_4': [],\n",
    "}\n",
    "\n",
    "model_wrapper.target = {'target': []}\n",
    "model_wrapper.ordered_column_list = sorted(model_wrapper.features.keys())\n",
    "model_wrapper.model.fit(train_x, train_y)"
   ]
  },
  {
   "cell_type": "markdown",
   "metadata": {},
   "source": [
    "## Make Predictions and Compare Against Test Split"
   ]
  },
  {
   "cell_type": "code",
   "execution_count": 8,
   "metadata": {},
   "outputs": [
    {
     "data": {
      "image/png": "[encoded data removed]",
      "text/plain": [
       "<Figure size 432x288 with 1 Axes>"
      ]
     },
     "metadata": {},
     "output_type": "display_data"
    }
   ],
   "source": [
    "predicted_y = model_wrapper.model.predict(test_x)\n",
    "output = pd.DataFrame({'predicted': predicted_y, 'actual': test_y})\n",
    "\n",
    "_ = output.plot()"
   ]
  },
  {
   "cell_type": "markdown",
   "metadata": {},
   "source": [
    "# Re-train with all Data and Save the Model"
   ]
  },
  {
   "cell_type": "code",
   "execution_count": 9,
   "metadata": {},
   "outputs": [],
   "source": [
    "model_wrapper.model = pipeline\n",
    "_ = model_wrapper.model.fit(total_x, total_y)\n",
    "\n",
    "model_wrapper.save()"
   ]
  },
  {
   "cell_type": "markdown",
   "metadata": {},
   "source": [
    "# Load Pre-Saved Model "
   ]
  },
  {
   "cell_type": "code",
   "execution_count": 10,
   "metadata": {},
   "outputs": [],
   "source": [
    "# Don't specify one_hot_encode here because it will be looked up from the pickle file\n",
    "saved_model = PredictionModel('my_test_model', path='/tmp/model_example')\n",
    "saved_model.model"
   ]
  },
  {
   "cell_type": "code",
   "execution_count": 11,
   "metadata": {},
   "outputs": [
    {
     "data": {
      "text/plain": [
       "{}"
      ]
     },
     "execution_count": 11,
     "metadata": {},
     "output_type": "execute_result"
    }
   ],
   "source": [
    "saved_model.features"
   ]
  },
  {
   "cell_type": "markdown",
   "metadata": {},
   "source": [
    "## Predict using Saved Model"
   ]
  },
  {
   "cell_type": "code",
   "execution_count": 12,
   "metadata": {},
   "outputs": [
    {
     "ename": "AttributeError",
     "evalue": "'NoneType' object has no attribute 'predict'",
     "output_type": "error",
     "traceback": [
      "\u001b[0;31m---------------------------------------------------------------------------\u001b[0m",
      "\u001b[0;31mAttributeError\u001b[0m                            Traceback (most recent call last)",
      "\u001b[0;32m<ipython-input-12-5aeab20f04c3>\u001b[0m in \u001b[0;36m<module>\u001b[0;34m\u001b[0m\n\u001b[0;32m----> 1\u001b[0;31m \u001b[0mpredicted_y\u001b[0m \u001b[0;34m=\u001b[0m \u001b[0msaved_model\u001b[0m\u001b[0;34m.\u001b[0m\u001b[0mmodel\u001b[0m\u001b[0;34m.\u001b[0m\u001b[0mpredict\u001b[0m\u001b[0;34m(\u001b[0m\u001b[0mtest_x\u001b[0m\u001b[0;34m)\u001b[0m\u001b[0;34m\u001b[0m\u001b[0;34m\u001b[0m\u001b[0m\n\u001b[0m\u001b[1;32m      2\u001b[0m \u001b[0moutput\u001b[0m \u001b[0;34m=\u001b[0m \u001b[0mpd\u001b[0m\u001b[0;34m.\u001b[0m\u001b[0mDataFrame\u001b[0m\u001b[0;34m(\u001b[0m\u001b[0;34m{\u001b[0m\u001b[0;34m'predicted'\u001b[0m\u001b[0;34m:\u001b[0m \u001b[0mpredicted_y\u001b[0m\u001b[0;34m,\u001b[0m \u001b[0;34m'actual'\u001b[0m\u001b[0;34m:\u001b[0m \u001b[0mtest_y\u001b[0m\u001b[0;34m}\u001b[0m\u001b[0;34m)\u001b[0m\u001b[0;34m\u001b[0m\u001b[0;34m\u001b[0m\u001b[0m\n\u001b[1;32m      3\u001b[0m \u001b[0m_\u001b[0m \u001b[0;34m=\u001b[0m \u001b[0moutput\u001b[0m\u001b[0;34m.\u001b[0m\u001b[0mplot\u001b[0m\u001b[0;34m(\u001b[0m\u001b[0;34m)\u001b[0m\u001b[0;34m\u001b[0m\u001b[0;34m\u001b[0m\u001b[0m\n",
      "\u001b[0;31mAttributeError\u001b[0m: 'NoneType' object has no attribute 'predict'"
     ]
    }
   ],
   "source": [
    "predicted_y = saved_model.model.predict(test_x)\n",
    "output = pd.DataFrame({'predicted': predicted_y, 'actual': test_y})\n",
    "_ = output.plot()"
   ]
  }
 ],
 "metadata": {
  "kernelspec": {
   "display_name": "Python 3",
   "language": "python",
   "name": "python3"
  },
  "language_info": {
   "codemirror_mode": {
    "name": "ipython",
    "version": 3
   },
   "file_extension": ".py",
   "mimetype": "text/x-python",
   "name": "python",
   "nbconvert_exporter": "python",
   "pygments_lexer": "ipython3",
   "version": "3.7.4"
  },
  "pycharm": {
   "stem_cell": {
    "cell_type": "raw",
    "source": [],
    "metadata": {
     "collapsed": false
    }
   }
  }
 },
 "nbformat": 4,
 "nbformat_minor": 2
}